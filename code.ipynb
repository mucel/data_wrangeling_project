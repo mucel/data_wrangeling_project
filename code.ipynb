{
 "cells": [
  {
   "cell_type": "markdown",
   "metadata": {},
   "source": [
    "# Data Wrangeling project\n",
    "# What influences wine quality ?\n",
    "January 2024 \n",
    "\n",
    "By Māra and Ovi "
   ]
  },
  {
   "cell_type": "code",
   "execution_count": null,
   "metadata": {},
   "outputs": [],
   "source": [
    "# Importing necessary libraries\n",
    "import numpy as np\n",
    "import pandas as pd\n",
    "import seaborn as sns\n",
    "import statsmodels.api as sm\n",
    "import matplotlib.pyplot as plt\n",
    "from statsmodels.formula.api import ols\n",
    "\n",
    "import warnings\n",
    "warnings.filterwarnings('ignore')\n",
    "\n",
    "pd.options.display.max_rows = 20\n",
    "np.set_printoptions(precision = 4, suppress = True)"
   ]
  },
  {
   "cell_type": "markdown",
   "metadata": {},
   "source": [
    "### Data acquisition"
   ]
  },
  {
   "cell_type": "code",
   "execution_count": null,
   "metadata": {},
   "outputs": [],
   "source": [
    "# Loading the dataset\n",
    "data = pd.read_csv('WineQT.csv')"
   ]
  },
  {
   "cell_type": "code",
   "execution_count": null,
   "metadata": {},
   "outputs": [],
   "source": [
    "# Looking at the initial data \n",
    "data.head\n",
    "# The Id coulumn has an iteresting end. "
   ]
  },
  {
   "cell_type": "code",
   "execution_count": null,
   "metadata": {},
   "outputs": [],
   "source": [
    "data.info()\n",
    "# Only quality and Id are integers the rest are objects.\n",
    "# However the Id strangely reaches 1597 in the 1142 row. \n",
    "# There are no null values :)"
   ]
  },
  {
   "cell_type": "code",
   "execution_count": null,
   "metadata": {},
   "outputs": [],
   "source": [
    "data.describe().T\n",
    "# Apart from the Id's range being higher than the amount of entries,\n",
    "    # the .... are the most interesting "
   ]
  },
  {
   "cell_type": "markdown",
   "metadata": {},
   "source": [
    "### Data Cleaning "
   ]
  },
  {
   "cell_type": "code",
   "execution_count": null,
   "metadata": {},
   "outputs": [],
   "source": [
    "# Changing the fromat\n",
    "data = data.astype({'quality': float, 'Id': float})"
   ]
  },
  {
   "cell_type": "code",
   "execution_count": null,
   "metadata": {},
   "outputs": [],
   "source": [
    "# Checking for missing values\n",
    "missing_values = data.isnull().sum()\n",
    "print(missing_values)"
   ]
  },
  {
   "cell_type": "code",
   "execution_count": null,
   "metadata": {},
   "outputs": [],
   "source": [
    "# Checking for duplicate rows\n",
    "duplicate_rows = data.duplicated().sum()\n",
    "print(f\"Number of duplicate rows: {duplicate_rows}\")"
   ]
  },
  {
   "cell_type": "code",
   "execution_count": null,
   "metadata": {},
   "outputs": [],
   "source": [
    "# Checking unique values in Id column\n",
    "unique_id = data['Id'].nunique()\n",
    "print(f\"Number of unique id: {unique_id}\")\n"
   ]
  },
  {
   "cell_type": "code",
   "execution_count": null,
   "metadata": {},
   "outputs": [],
   "source": [
    "# Dropping the 'Id' column \n",
    "data = data.drop(columns='Id')"
   ]
  },
  {
   "cell_type": "code",
   "execution_count": null,
   "metadata": {},
   "outputs": [],
   "source": [
    "# Renaming columns\n",
    "new_column_names = [\n",
    "    'fixed_acidity', 'volatile_acidity', 'citric_acid', 'residual_sugar',\n",
    "    'chlorides', 'free_sulfur_dioxide', 'total_sulfur_dioxide', 'density',\n",
    "    'ph', 'sulphates', 'alcohol', 'quality'\n",
    "]\n",
    "\n",
    "data.columns = new_column_names"
   ]
  },
  {
   "cell_type": "markdown",
   "metadata": {},
   "source": [
    "Dealing with outliers "
   ]
  },
  {
   "cell_type": "code",
   "execution_count": null,
   "metadata": {},
   "outputs": [],
   "source": [
    "# Creating box plots for each feature to inspect outliers\n",
    "\n",
    "plt.figure(figsize=(18, 10))\n",
    "plt.subplots_adjust(hspace=0.5)\n",
    "\n",
    "for i, column in enumerate(data.columns[:-1], 1):  \n",
    "    # excluding 'quality' column\n",
    "    plt.subplot(3, 4, i)\n",
    "    sns.boxplot(x=data[column])\n",
    "    plt.title(f'Box plot of {column}')\n",
    "plt.show()"
   ]
  },
  {
   "cell_type": "code",
   "execution_count": null,
   "metadata": {},
   "outputs": [],
   "source": [
    "# Investigation the outliers using the IQR method\n",
    "\n",
    "# Calculating Q1, Q3, and IQR for each feature\n",
    "Q1 = data.quantile(0.25)\n",
    "Q3 = data.quantile(0.75)\n",
    "IQR = Q3 - Q1\n",
    "\n",
    "# Determine outliers using the IQR method\n",
    "outliers_iqr = ((data < (Q1 - 1.5 * IQR)) | (data > (Q3 + 1.5 * IQR)))\n",
    "\n",
    "# Print the outliers based on IQR method\n",
    "print(\"Outliers based on IQR method:\")\n",
    "print(outliers_iqr)"
   ]
  },
  {
   "cell_type": "code",
   "execution_count": null,
   "metadata": {},
   "outputs": [],
   "source": [
    "# Handling Outliers by capping at the 1st and 99th percentiles\n",
    "for column in data.columns[:-1]:  \n",
    "    percentiles = data[column].quantile([0.01, 0.99]).values\n",
    "    data[column] = np.clip(data[column], percentiles[0], percentiles[1])"
   ]
  },
  {
   "cell_type": "markdown",
   "metadata": {},
   "source": [
    "Computing dummy variables "
   ]
  },
  {
   "cell_type": "code",
   "execution_count": null,
   "metadata": {},
   "outputs": [],
   "source": [
    "# Creating a new feature 'free_sulfur_dioxide_ratio'\n",
    "data['free_sulfur_dioxide_ratio'] = data['free_sulfur_dioxide'] / data['total_sulfur_dioxide']"
   ]
  },
  {
   "cell_type": "markdown",
   "metadata": {},
   "source": [
    "### Data Merging - this is missing fully "
   ]
  },
  {
   "cell_type": "code",
   "execution_count": null,
   "metadata": {},
   "outputs": [],
   "source": [
    "# ...."
   ]
  },
  {
   "cell_type": "markdown",
   "metadata": {},
   "source": [
    "### Data Aggregation \n",
    "    This needs way more \n",
    "\n",
    "Also this makes sense if it goes after the corrolation matrix ?\n",
    "\n",
    "- Data transformation \n",
    "- Grouping ...\n",
    "- Preforme calculations on subsets of data \n"
   ]
  },
  {
   "cell_type": "code",
   "execution_count": null,
   "metadata": {},
   "outputs": [],
   "source": [
    "# Aggregating data by 'quality' and computing the mean for each feature\n",
    "print(\"\\nData aggregated by wine quality:\")\n",
    "quality_summary = data.groupby('quality').mean()\n",
    "print(quality_summary)"
   ]
  },
  {
   "cell_type": "code",
   "execution_count": null,
   "metadata": {},
   "outputs": [],
   "source": [
    "data_grouped = data.groupby('quality')[['fixed_acidity', 'volatile_acidity', 'citric_acid', 'residual_sugar',\n",
    "    'chlorides', 'free_sulfur_dioxide', 'total_sulfur_dioxide', 'density',\n",
    "    'ph', 'sulphates', 'alcohol', 'quality']].mean()\n",
    "\n",
    "data_grouped"
   ]
  },
  {
   "cell_type": "markdown",
   "metadata": {},
   "source": [
    "### Data Visualization"
   ]
  },
  {
   "cell_type": "code",
   "execution_count": null,
   "metadata": {},
   "outputs": [],
   "source": [
    "# Check the target variable\n",
    "fig, axes = plt.subplots(1, 2, figsize=(10, 5))\n",
    "\n",
    "sns.countplot(x=df['quality'], ax=axes[0])\n",
    "for c in axes[0].containers:\n",
    "        axes[0].bar_label(c, fmt='%d', padding=1)\n",
    "sns.boxplot(x=df['quality'], )\n",
    "\n",
    "plt.title(f'Distribution of Quality')\n",
    "plt.tight_layout()\n",
    "plt.show()\n",
    "\n",
    "# There are not that many drinks with good quality and bad quality nost are anly a bit over average. \n",
    "# Thus indicating that most wine quality is around 5.5 "
   ]
  },
  {
   "cell_type": "code",
   "execution_count": null,
   "metadata": {},
   "outputs": [],
   "source": [
    "# Correlation matrix\n",
    "print(\"\\nCorrelation Matrix:\")\n",
    "plt.figure(figsize=(12, 8))\n",
    "corr_matrix = data.corr()\n",
    "sns.heatmap(corr_matrix, annot=True, fmt=\".2f\", cmap='coolwarm')\n",
    "plt.title('Correlation Matrix')\n",
    "plt.show()\n",
    "\n",
    "# The higest positive corrolation is with the alcohol (0.48), and \n",
    "# the lowest corrolation with volitile acidity(-0.41). \n",
    "\n",
    "# Nonetheless, sulphates and citric acid also seem to be corrolated with the quality at around 0.25 \n",
    "# Possibly also the density and the total sulfur dioxide at -0.18"
   ]
  },
  {
   "cell_type": "markdown",
   "metadata": {},
   "source": [
    "Unsure if there is a need to do all of the features so we can do the ones i selected  \n",
    "\n",
    "The code is below yours for now "
   ]
  },
  {
   "cell_type": "code",
   "execution_count": null,
   "metadata": {},
   "outputs": [],
   "source": [
    "# Visualizing the distributions of the features\n",
    "\n",
    "print(\"\\nVisualizing the distributions of the features:\")\n",
    "plt.figure(figsize=(18, 10))\n",
    "plt.subplots_adjust(hspace=0.5)\n",
    "for i, column in enumerate(data.columns[:-1], 1):  # excluding 'quality' column\n",
    "    plt.subplot(3, 4, i)\n",
    "    sns.histplot(data[column], kde=True)\n",
    "    plt.title(f'Distribution of {column}')\n",
    "plt.show()# Quality Distribution\n",
    "plt.figure(figsize=(10, 6))\n",
    "sns.countplot(x='quality', data=data, palette=\"viridis\")\n",
    "plt.title('Distribution of Wine Quality Ratings')\n",
    "plt.show()"
   ]
  },
  {
   "cell_type": "code",
   "execution_count": null,
   "metadata": {},
   "outputs": [],
   "source": [
    "# Checking the distribution of the intresting features \n",
    "interest = ['volatile acidity', 'citric acid', 'total sulfur dioxide', 'density', 'sulphates', 'alcohol', 'Id']\n",
    "\n",
    "fig, axes = plt.subplots(nrows=3, ncols=3, figsize=(15, 9))\n",
    "\n",
    "axes = axes.flatten()\n",
    "\n",
    "for i, col in enumerate(interest):\n",
    "    sns.kdeplot(data=df[col], ax=axes[i])\n",
    "    axes[i].set_title(f'Distribution of {col}')\n",
    "\n",
    "for j in range(len(interest), len(axes)):\n",
    "    fig.delaxes(axes[j])\n",
    "\n",
    "plt.tight_layout()\n",
    "plt.show()"
   ]
  },
  {
   "cell_type": "markdown",
   "metadata": {},
   "source": [
    "This as well we can adjust "
   ]
  },
  {
   "cell_type": "code",
   "execution_count": null,
   "metadata": {},
   "outputs": [],
   "source": [
    "# Box plots for each feature against wine quality\n",
    "print(\"\\nBox plots for each feature against wine quality:\")\n",
    "for column in data.columns[:-1]:  # excluding 'quality' column\n",
    "    plt.figure(figsize=(10, 6))\n",
    "    sns.boxplot(x='quality', y=column, data=data)\n",
    "    plt.title(f'{column} vs Quality')\n",
    "    plt.show()"
   ]
  },
  {
   "cell_type": "markdown",
   "metadata": {},
   "source": [
    "### Statistical Analysis"
   ]
  },
  {
   "cell_type": "code",
   "execution_count": null,
   "metadata": {},
   "outputs": [],
   "source": [
    "# ANOVA for 'alcohol', 'sulphates', and 'volatile_acidity'\n",
    "anova_results = {}\n",
    "for feature in ['alcohol', 'sulphates', 'volatile_acidity']:\n",
    "    model = ols(f'{feature} ~ C(quality)', data=data).fit()\n",
    "    anova_table = sm.stats.anova_lm(model, typ=2)\n",
    "    anova_results[feature] = anova_table\n",
    "    print(f\"ANOVA results for {feature}:\\n\", anova_table, \"\\n\")"
   ]
  },
  {
   "cell_type": "code",
   "execution_count": null,
   "metadata": {},
   "outputs": [],
   "source": [
    "# Tukey's HSD Test for 'alcohol', 'sulphates', and 'volatile_acidity'\n",
    "tukey_results = {}\n",
    "for feature in ['alcohol', 'sulphates', 'volatile_acidity']:\n",
    "    tukey = pairwise_tukeyhsd(endog=data[feature], groups=data['quality'], alpha=0.05)\n",
    "    tukey_results[feature] = tukey\n",
    "    print(f\"Tukey's HSD test results for {feature}:\\n\", tukey.summary(), \"\\n\")\n"
   ]
  }
 ],
 "metadata": {
  "kernelspec": {
   "display_name": "ml",
   "language": "python",
   "name": "python3"
  },
  "language_info": {
   "codemirror_mode": {
    "name": "ipython",
    "version": 3
   },
   "file_extension": ".py",
   "mimetype": "text/x-python",
   "name": "python",
   "nbconvert_exporter": "python",
   "pygments_lexer": "ipython3",
   "version": "3.11.7"
  }
 },
 "nbformat": 4,
 "nbformat_minor": 2
}
